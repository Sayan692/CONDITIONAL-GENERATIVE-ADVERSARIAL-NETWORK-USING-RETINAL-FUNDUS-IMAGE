{
 "cells": [
  {
   "cell_type": "code",
   "execution_count": 1,
   "metadata": {},
   "outputs": [],
   "source": [
    "import os\n",
    "import cv2\n",
    "import shutil\n",
    "import numpy as np"
   ]
  },
  {
   "cell_type": "code",
   "execution_count": null,
   "metadata": {},
   "outputs": [],
   "source": [
    "#First part"
   ]
  },
  {
   "cell_type": "code",
   "execution_count": null,
   "metadata": {},
   "outputs": [
    {
     "name": "stdout",
     "output_type": "stream",
     "text": [
      "{(2304, 3456, 3), (2848, 4272, 3), (3168, 4752, 3), (2448, 3264, 3), (1920, 2560, 3), (1664, 2496, 3), (2136, 3215, 3), (1880, 2816, 3), (2048, 3072, 3), (2056, 3088, 3), (1957, 2196, 3), (2056, 2124, 3), (315, 400, 3), (3264, 4928, 3), (2848, 4288, 3), (2592, 3872, 3), (2336, 3504, 3), (1944, 2592, 3), (1184, 1792, 3), (2000, 3008, 3)}\n"
     ]
    }
   ],
   "source": [
    "#get unique sizes\n",
    "\n",
    "folder_path = r'train0'\n",
    "\n",
    "l=[]\n",
    "# Iterate through all files in the folder\n",
    "for filename in os.listdir(folder_path):\n",
    "    file_path = os.path.join(folder_path, filename)\n",
    "\n",
    "    img = cv2.imread(file_path)\n",
    "    # Get the shape of the image\n",
    "    l.append(img.shape)\n",
    "\n",
    "unique=set(l)\n",
    "print(unique)"
   ]
  },
  {
   "cell_type": "code",
   "execution_count": 18,
   "metadata": {},
   "outputs": [],
   "source": [
    "#Seperate Images\n",
    "\n",
    "def seperate(folder_path,destination_path,threshold):\n",
    "    l=[]\n",
    "    # Iterate through all files in the folder\n",
    "    for filename in os.listdir(folder_path):\n",
    "        file_path = os.path.join(folder_path, filename)\n",
    "\n",
    "        img = cv2.imread(file_path)\n",
    "        # Get the shape of the image\n",
    "        if img.shape==threshold:\n",
    "            destination=os.path.join(destination_path, filename)\n",
    "            shutil.move(file_path, destination)\n",
    "\n",
    "#seperate(r'train/train0',r'train/train1',(2592, 3888, 3))\n",
    "#seperate(r'train/train0',r'train/train2',(2304, 3456, 3))\n",
    "#seperate(r'train/train0',r'train/train3',(2848, 4272, 3))\n",
    "#seperate(r'train/train0',r'train/train4',(3168, 4752, 3))\n",
    "#seperate(r'train/train0',r'train/train5',(2448, 3264, 3))\n",
    "#seperate(r'train/train0',r'train/train6',(1920, 2560, 3))\n",
    "#seperate(r'train/train0',r'train/train7',(1664, 2496, 3))\n",
    "#seperate(r'train/train0',r'train/train8',(2136, 3215, 3))\n",
    "#seperate(r'train/train0',r'train/train9',(1880, 2816, 3))\n",
    "#seperate(r'train/train0',r'train/train10',(2048, 3072, 3))\n",
    "#seperate(r'train/train0',r'train/train11',(2056, 3088, 3))\n",
    "#seperate(r'train/train0',r'train/train12',(1957, 2196, 3))\n",
    "#seperate(r'train/train0',r'train/train13',(2056, 2124, 3))\n",
    "#seperate(r'train/train0',r'train/train14',(315, 400, 3))\n",
    "#seperate(r'train/train0',r'train/train15',(3264, 4928, 3))\n",
    "#seperate(r'train/train0',r'train/train16',(2848, 4288, 3))\n",
    "#seperate(r'train/train0',r'train/train17',(2592, 3872, 3))\n",
    "#seperate(r'train/train0',r'train/train18',(2336, 3504, 3))\n",
    "#seperate(r'train/train0',r'train/train19',(1944, 2592, 3))\n",
    "#seperate(r'train/train0',r'train/train20',(2592, 3872, 3))\n",
    "#seperate(r'train/train0',r'train/train21',(2000, 3008, 3))"
   ]
  },
  {
   "cell_type": "code",
   "execution_count": null,
   "metadata": {},
   "outputs": [],
   "source": [
    "#Second part"
   ]
  },
  {
   "cell_type": "code",
   "execution_count": 8,
   "metadata": {},
   "outputs": [
    {
     "name": "stdout",
     "output_type": "stream",
     "text": [
      "5297276\n"
     ]
    }
   ],
   "source": [
    "#get white pixel count\n",
    "img=cv2.imread('sort/sorted18_5/9298_right.jpeg')\n",
    "\n",
    "##Spliting Channels (0,1,2 represents B,G,R)\n",
    "R=img[:,:,2]\n",
    "R[R>40]=255\n",
    "cv2.imwrite('x.jpg',R)\n",
    "\n",
    "count=0\n",
    "for row in img:\n",
    "    white_pixels=np.where(row == 255)[0]\n",
    "    count+=len(white_pixels)\n",
    "\n",
    "print(count)"
   ]
  },
  {
   "cell_type": "code",
   "execution_count": 9,
   "metadata": {},
   "outputs": [],
   "source": [
    "#sort images\n",
    "def move(source_path,destination_path,threshold):\n",
    "    # Iterate through all files in the folder\n",
    "    for filename in os.listdir(source_path):\n",
    "        file_path = os.path.join(source_path, filename)\n",
    "\n",
    "        img = cv2.imread(file_path)\n",
    "\n",
    "        R=img[:,:,2]\n",
    "        R[R>40]=255\n",
    "\n",
    "        count=0\n",
    "        for row in img:\n",
    "            white_pixels=np.where(row ==255)[0]\n",
    "            count+=len(white_pixels)\n",
    "\n",
    "        # Get the shape of the image\n",
    "        if count<threshold:\n",
    "            destination=os.path.join(destination_path, filename)\n",
    "            shutil.move(file_path, destination)\n",
    "\n",
    "#sorted1\n",
    "#move('train/train1','sort/sorted1',22874133)\n",
    "#move('sort/sorted1','sort/sorted1_0',22895285)\n",
    "#move('sort/sorted1_0','sort/sorted1_1',7266429)\n",
    "#move('sort/sorted1_1','sort/sorted1_2',7119522)\n",
    "#move('sort/sorted1_2','sort/sorted1_3',7081814)\n",
    "#move('sort/sorted1_3','sort/sorted1_4',6989074)\n",
    "#move('sort/sorted1_4','sort/sorted1_5',6922962)\n",
    "            \n",
    "#sorted18   \n",
    "#move('train/train18','sort/sorted18',5722296)\n",
    "#move('sort/sorted18','sort/sorted18_0',5690245)\n",
    "#move('sort/sorted18_0','sort/sorted18_1',5676220)\n",
    "#move('sort/sorted18_1','sort/sorted18_2',5672347)\n",
    "#move('sort/sorted18_2','sort/sorted18_3',5570693)\n",
    "#move('sort/sorted18_3','sort/sorted18_4',5492040)\n",
    "#move('sort/sorted18_4','sort/sorted18_5',5357266)\n",
    "#move('sort/sorted18_5','sort/sorted18_6',5297276)"
   ]
  }
 ],
 "metadata": {
  "kernelspec": {
   "display_name": "Python 3",
   "language": "python",
   "name": "python3"
  },
  "language_info": {
   "codemirror_mode": {
    "name": "ipython",
    "version": 3
   },
   "file_extension": ".py",
   "mimetype": "text/x-python",
   "name": "python",
   "nbconvert_exporter": "python",
   "pygments_lexer": "ipython3",
   "version": "3.11.7"
  }
 },
 "nbformat": 4,
 "nbformat_minor": 2
}
